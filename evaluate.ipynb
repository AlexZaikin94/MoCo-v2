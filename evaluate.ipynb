{
 "cells": [
  {
   "cell_type": "code",
   "execution_count": 1,
   "id": "e8230c9d",
   "metadata": {},
   "outputs": [],
   "source": [
    "import os\n",
    "import random\n",
    "import numpy as np\n",
    "\n",
    "import torch\n",
    "import torch.nn as nn\n",
    "import torchvision\n",
    "\n",
    "from tqdm import tqdm\n",
    "\n",
    "from src import arch\n",
    "from src import utils\n",
    "from config import cfg\n",
    "from src import pytorch_utils as ptu\n",
    "\n",
    "import warnings\n",
    "warnings.filterwarnings(\"ignore\")\n",
    "\n",
    "# assert torch.cuda.is_available(), \"no CUDA\""
   ]
  },
  {
   "cell_type": "code",
   "execution_count": 2,
   "id": "88c47f79",
   "metadata": {},
   "outputs": [],
   "source": [
    "cfg.seed = 42\n",
    "random.seed(cfg.seed)\n",
    "torch.random.manual_seed(cfg.seed)\n",
    "torch.manual_seed(cfg.seed)\n",
    "torch.backends.cudnn.deterministic = True\n",
    "cfg.num_workers = 0"
   ]
  },
  {
   "cell_type": "code",
   "execution_count": 3,
   "id": "8a199856",
   "metadata": {},
   "outputs": [
    {
     "name": "stdout",
     "output_type": "stream",
     "text": [
      "cuda\n",
      "_CudaDeviceProperties(name='TITAN Xp', major=6, minor=1, total_memory=12196MB, multi_processor_count=30)\n"
     ]
    }
   ],
   "source": [
    "device = torch.device(\"cuda\" if torch.cuda.is_available() else \"cpu\")\n",
    "print(device)\n",
    "if device.type == 'cuda':\n",
    "    torch.backends.cudnn.benchmark = True\n",
    "    print(torch.cuda.get_device_properties(device))"
   ]
  },
  {
   "cell_type": "code",
   "execution_count": 4,
   "id": "0ddbbfbb",
   "metadata": {},
   "outputs": [
    {
     "name": "stdout",
     "output_type": "stream",
     "text": [
      "clf.version\n",
      " resnext50_32x4d_bs32_queue16384_wd0.0001_t0.2_cos_epochbest_clf_wd0.0_cos\n"
     ]
    }
   ],
   "source": [
    "print('clf.version\\n', cfg.clf.version)"
   ]
  },
  {
   "cell_type": "code",
   "execution_count": 5,
   "id": "10daaa65",
   "metadata": {},
   "outputs": [],
   "source": [
    "cfg.clf.load = 'best'\n",
    "cfg.preload_data = False\n",
    "# cfg.prints = 'display'\n",
    "# cfg.tqdm_bar = True"
   ]
  },
  {
   "cell_type": "code",
   "execution_count": 6,
   "id": "564bc2cd",
   "metadata": {},
   "outputs": [],
   "source": [
    "if cfg.clf.load is not None and os.path.exists(os.path.join(cfg.models_dir, cfg.clf.version, ptu.naming_scheme(cfg.clf.version, epoch=cfg.clf.load)) + '.pth'):\n",
    "    checkpoint = ptu.load_model(version=cfg.clf.version, models_dir=cfg.models_dir, epoch=cfg.clf.load)"
   ]
  },
  {
   "cell_type": "code",
   "execution_count": 7,
   "id": "2b944302",
   "metadata": {},
   "outputs": [],
   "source": [
    "train_dataset = utils.Dataset(os.path.join(cfg.data_path, 'train'), cfg.clf.train_transforms, preload_data=cfg.preload_data, tqdm_bar=cfg.tqdm_bar)\n",
    "val_dataset = utils.Dataset(os.path.join(cfg.data_path, 'val'), cfg.clf.val_transforms, preload_data=cfg.preload_data, tqdm_bar=cfg.tqdm_bar)\n",
    "\n",
    "train_loader = torch.utils.data.DataLoader(train_dataset,\n",
    "                                           batch_size=checkpoint.model.batch_size,\n",
    "                                           num_workers=cfg.num_workers,\n",
    "                                           drop_last=True, shuffle=True, pin_memory=True)\n",
    "\n",
    "val_loader = torch.utils.data.DataLoader(val_dataset,\n",
    "                                         batch_size=checkpoint.model.batch_size,\n",
    "                                         num_workers=cfg.num_workers,\n",
    "                                         drop_last=True, shuffle=False, pin_memory=True)"
   ]
  },
  {
   "cell_type": "code",
   "execution_count": 8,
   "id": "73583cb9",
   "metadata": {},
   "outputs": [
    {
     "name": "stderr",
     "output_type": "stream",
     "text": [
      "100%|██████████| 295/295 [02:16<00:00,  2.16it/s, score=0.906, avg_score=0.919, loss=0.259, avg_loss=0.25]  \n"
     ]
    }
   ],
   "source": [
    "train_loss, train_score, train_results = checkpoint.evaluate(train_loader,\n",
    "                                                             device=device,\n",
    "                                                             tqdm_bar=cfg.tqdm_bar)"
   ]
  },
  {
   "cell_type": "code",
   "execution_count": 9,
   "id": "9ff46d42",
   "metadata": {},
   "outputs": [
    {
     "name": "stderr",
     "output_type": "stream",
     "text": [
      "100%|██████████| 122/122 [01:03<00:00,  1.93it/s, score=0.938, avg_score=0.928, loss=0.169, avg_loss=0.246]\n"
     ]
    }
   ],
   "source": [
    "val_loss, val_score, val_results = checkpoint.evaluate(val_loader,\n",
    "                                                       device=device,\n",
    "                                                       tqdm_bar=cfg.tqdm_bar)"
   ]
  },
  {
   "cell_type": "code",
   "execution_count": 10,
   "id": "2177d06e",
   "metadata": {},
   "outputs": [
    {
     "name": "stdout",
     "output_type": "stream",
     "text": [
      "train | loss: 0.2497 | top-1 acc: 0.918962\n",
      "val   | loss: 0.2453 | top-1 acc: 0.927766\n"
     ]
    }
   ],
   "source": [
    "print(f'train | loss: {train_loss:.4f} | top-1 acc: {train_score:.6f}')\n",
    "print(f'val   | loss: {val_loss:.4f} | top-1 acc: {val_score:.6f}')"
   ]
  },
  {
   "cell_type": "code",
   "execution_count": null,
   "id": "6d865e2c",
   "metadata": {},
   "outputs": [],
   "source": []
  },
  {
   "cell_type": "code",
   "execution_count": null,
   "id": "44930962",
   "metadata": {},
   "outputs": [],
   "source": []
  },
  {
   "cell_type": "code",
   "execution_count": null,
   "id": "4afa030b",
   "metadata": {},
   "outputs": [],
   "source": []
  },
  {
   "cell_type": "code",
   "execution_count": null,
   "id": "e7ffdb6b",
   "metadata": {},
   "outputs": [],
   "source": []
  }
 ],
 "metadata": {
  "kernelspec": {
   "display_name": "main",
   "language": "python",
   "name": "main"
  },
  "language_info": {
   "codemirror_mode": {
    "name": "ipython",
    "version": 3
   },
   "file_extension": ".py",
   "mimetype": "text/x-python",
   "name": "python",
   "nbconvert_exporter": "python",
   "pygments_lexer": "ipython3",
   "version": "3.8.5"
  }
 },
 "nbformat": 4,
 "nbformat_minor": 5
}
